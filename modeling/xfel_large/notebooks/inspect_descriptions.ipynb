{
 "cells": [
  {
   "cell_type": "code",
   "execution_count": 1,
   "id": "15ff2dbb-12bd-4dfd-9353-01bfcdc495d5",
   "metadata": {},
   "outputs": [],
   "source": [
    "%matplotlib widget\n",
    "import matplotlib.pyplot as plt\n",
    "import h5py\n",
    "import numpy as np\n",
    "from scipy.special import voigt_profile, beta"
   ]
  },
  {
   "cell_type": "code",
   "execution_count": 2,
   "id": "c15fdb36-30b2-456b-9b95-c88d7b5bbfb5",
   "metadata": {},
   "outputs": [],
   "source": [
    "def voigt_1d(x, params):\n",
    "    return  params[1] * voigt_profile(x - params[0], params[2], params[3])\n",
    "\n",
    "def model(x, params):\n",
    "        \"\"\" *params* should have shape (M,N), where\n",
    "        M = number of components\n",
    "        N = number of parameters per components\n",
    "        \"\"\"\n",
    "\n",
    "        y = np.zeros(x.shape)\n",
    "        for i in range(params.shape[0]): # Iterate components\n",
    "            y = y + voigt_1d(x, params[i])\n",
    "\n",
    "        return y"
   ]
  },
  {
   "cell_type": "code",
   "execution_count": 3,
   "id": "873855ca-5c65-44be-bc23-4e171c320ebd",
   "metadata": {},
   "outputs": [
    {
     "data": {
      "application/vnd.jupyter.widget-view+json": {
       "model_id": "7ecaa050a9744c72a7be2b7d7b4d2ad3",
       "version_major": 2,
       "version_minor": 0
      },
      "text/plain": [
       "Canvas(toolbar=Toolbar(toolitems=[('Home', 'Reset original view', 'home', 'home'), ('Back', 'Back to previous …"
      ]
     },
     "metadata": {},
     "output_type": "display_data"
    },
    {
     "data": {
      "application/vnd.jupyter.widget-view+json": {
       "model_id": "1b84b47273ea4703bacfb96a1be12e9c",
       "version_major": 2,
       "version_minor": 0
      },
      "text/plain": [
       "Canvas(toolbar=Toolbar(toolitems=[('Home', 'Reset original view', 'home', 'home'), ('Back', 'Back to previous …"
      ]
     },
     "metadata": {},
     "output_type": "display_data"
    },
    {
     "data": {
      "application/vnd.jupyter.widget-view+json": {
       "model_id": "7edfa9ac2fee46b2993795b1b10c7765",
       "version_major": 2,
       "version_minor": 0
      },
      "text/plain": [
       "Canvas(toolbar=Toolbar(toolitems=[('Home', 'Reset original view', 'home', 'home'), ('Back', 'Back to previous …"
      ]
     },
     "metadata": {},
     "output_type": "display_data"
    }
   ],
   "source": [
    "fig_fwhm, ax1_fwhm = plt.subplots()\n",
    "ax2_fwhm = ax1_fwhm.twinx()\n",
    "color = \"tab:blue\"\n",
    "ax1_fwhm.tick_params(axis='y', labelcolor=color)\n",
    "ax1_fwhm.set_ylabel(\"Ka2 FWHM (eV)\", color = color)\n",
    "color = \"tab:red\"\n",
    "ax2_fwhm.tick_params(axis='y', labelcolor=color)\n",
    "ax2_fwhm.set_ylabel(\"Ka1 FWHM (eV)\", color = color)\n",
    "\n",
    "fig_height, ax1_height = plt.subplots()\n",
    "ax2_height = ax1_height.twinx()\n",
    "color = \"tab:blue\"\n",
    "ax1_height.tick_params(axis='y', labelcolor=color)\n",
    "ax1_height.set_ylabel(\"Ka2 height (arb. units)\", color = color)\n",
    "color = \"tab:red\"\n",
    "ax2_height.tick_params(axis='y', labelcolor=color)\n",
    "ax2_height.set_ylabel(\"Ka1 height (arb. units)\", color = color)\n",
    "\n",
    "fig_position, ax1_position = plt.subplots()\n",
    "ax2_position = ax1_position.twinx()\n",
    "color = \"tab:blue\"\n",
    "ax1_position.tick_params(axis='y', labelcolor=color)\n",
    "ax1_position.set_ylabel(\"Ka2 position (eV)\", color = color)\n",
    "color = \"tab:red\"\n",
    "ax2_position.tick_params(axis='y', labelcolor=color)\n",
    "ax2_position.set_ylabel(\"Ka1 position (eV)\", color = color)\n",
    "\n",
    "fit_idx = 0    \n",
    "\n",
    "for run in [81, 82, 94]:\n",
    "    \n",
    "    with h5py.File(r'/home/otteflor/scratch/tmp_fit/2699_{:0>3d}_off/04_compare.h5'.format(run), 'r') as h5_file:\n",
    "        fwhm12_off = h5_file['description/fwhm(1,2)_sorted'][fit_idx].mean()\n",
    "        fwhm34_off = h5_file['description/fwhm(3,4)_sorted'][fit_idx].mean()\n",
    "        height12_off = h5_file['description/height(1,2)_sorted'][fit_idx].mean()\n",
    "        height34_off = h5_file['description/height(3,4)_sorted'][fit_idx].mean()\n",
    "        position12_off = h5_file['description/position(1,2)_sorted'][fit_idx].mean()\n",
    "        position34_off = h5_file['description/position(3,4)_sorted'][fit_idx].mean()\n",
    "        fwhm12_std = h5_file['description/fwhm(1,2)_sorted'][fit_idx].std()\n",
    "        fwhm34_std = h5_file['description/fwhm(3,4)_sorted'][fit_idx].std()\n",
    "        height12_std = h5_file['description/height(1,2)_sorted'][fit_idx].std()\n",
    "        height34_std = h5_file['description/height(3,4)_sorted'][fit_idx].std()\n",
    "        position12_std = h5_file['description/position(1,2)_sorted'][fit_idx].std()\n",
    "        position34_std = h5_file['description/position(3,4)_sorted'][fit_idx].std()\n",
    "        motor = h5_file['fit_data/motor'][()]\n",
    "    \n",
    "        \n",
    "    with h5py.File(r'/home/otteflor/scratch/tmp_fit/2699_{:0>3d}_on/04_compare.h5'.format(run), 'r') as h5_file:\n",
    "        fwhm12 = h5_file['description/fwhm(1,2)_sorted'][fit_idx]\n",
    "        fwhm34 = h5_file['description/fwhm(3,4)_sorted'][fit_idx]\n",
    "        height12 = h5_file['description/height(1,2)_sorted'][fit_idx]\n",
    "        height34 = h5_file['description/height(3,4)_sorted'][fit_idx]\n",
    "        position12 = h5_file['description/position(1,2)_sorted'][fit_idx]\n",
    "        position34 = h5_file['description/position(3,4)_sorted'][fit_idx]\n",
    "        x = h5_file['fit_data/x'][()]\n",
    "        y = h5_file['fit_data/y'][()]\n",
    "        motor = h5_file['fit_data/motor'][()]\n",
    "        \n",
    "    ax1_fwhm.plot(motor, fwhm12 - fwhm12_off, color = 'tab:blue', marker = '.', markersize = 7, linewidth = 0.05)\n",
    "    ax1_fwhm.fill_between(motor, fwhm12 - fwhm12_off - fwhm12_std, fwhm12 - fwhm12_off + fwhm12_std, color = 'tab:blue', alpha=0.05)\n",
    "    ax2_fwhm.plot(motor, fwhm34 - fwhm34_off, color = 'tab:red', marker = '.', markersize = 7, linewidth = 0.05)\n",
    "    ax2_fwhm.fill_between(motor, fwhm34 - fwhm34_off - fwhm34_std, fwhm34 - fwhm34_off + fwhm34_std, color = 'tab:red', alpha=0.05)\n",
    "\n",
    "    ax1_height.plot(motor, height12 - height12_off, color = 'tab:blue', marker = '.', markersize = 7, linewidth = 0.05)\n",
    "    ax1_height.fill_between(motor, height12 - height12_off - height12_std, height12 - height12_off + height12_std, color = 'tab:blue', alpha=0.05)\n",
    "    ax2_height.plot(motor, height34 - height34_off, color = 'tab:red', marker = '.', markersize = 7, linewidth = 0.05)\n",
    "    ax2_height.fill_between(motor, height34 - height34_off - height34_std, height34 - height34_off + height34_std, color = 'tab:red', alpha=0.05)\n",
    "\n",
    "    ax1_position.plot(motor, position12 - position12_off, color = 'tab:blue', marker = '.', markersize = 7, linewidth = 0.05)\n",
    "    ax1_position.fill_between(motor, position12 - position12_off - position12_std, position12 - position12_off + position12_std, color = 'tab:blue', alpha=0.05)\n",
    "    ax2_position.plot(motor, position34 - position34_off, color = 'tab:red', marker = '.', markersize = 7, linewidth = 0.05)\n",
    "    ax2_position.fill_between(motor, position34 - position34_off - position34_std, position34 - position34_off + position34_std, color = 'tab:red', alpha=0.05)\n",
    "        \n",
    "# for run in [94]:\n",
    "#     with h5py.File(r'/home/otteflor/scratch/tmp_fit/2699_{:0>3d}_off/04_compare.h5'.format(run), 'r') as h5_file:\n",
    "#         fwhm12 = h5_file['description/fwhm(1,2)_sorted'][()]\n",
    "#         fwhm34 = h5_file['description/fwhm(3,4)_sorted'][()]\n",
    "#         height12 = h5_file['description/height(1,2)_sorted'][()]\n",
    "#         height34 = h5_file['description/height(3,4)_sorted'][()]\n",
    "#         position12 = h5_file['description/position(1,2)_sorted'][()]\n",
    "#         position34 = h5_file['description/position(3,4)_sorted'][()]\n",
    "#         x = h5_file['fit_data/x'][()]\n",
    "#         y = h5_file['fit_data/y'][()]\n",
    "#         motor = h5_file['fit_data/motor'][()]\n",
    "        \n",
    "#         ax1_fwhm.plot(motor, fwhm12[fit_idx], color = 'tab:blue', marker = '.', markersize = 15, linewidth = 0.3, alpha = 0.25)\n",
    "#         ax2_fwhm.plot(motor, fwhm34[fit_idx], color = 'tab:red', marker = '.', markersize = 15, linewidth = 0.3, alpha = 0.25)\n",
    "        \n",
    "#         ax1_height.plot(motor, height12[fit_idx], color = 'tab:blue', marker = '.', markersize = 15, linewidth = 0.3, alpha = 0.25)\n",
    "#         ax2_height.plot(motor, height34[fit_idx], color = 'tab:red', marker = '.', markersize = 15, linewidth = 0.3, alpha = 0.25)\n",
    "        \n",
    "#         ax1_position.plot(motor, position12[fit_idx], color = 'tab:blue', marker = '.', markersize = 15, linewidth = 0.3, alpha = 0.25)\n",
    "#         ax2_position.plot(motor, position34[fit_idx], color = 'tab:red', marker = '.', markersize = 15, linewidth = 0.3, alpha = 0.25)"
   ]
  },
  {
   "cell_type": "code",
   "execution_count": 4,
   "id": "e833396c-a4ac-4140-a093-24de3d4ada9b",
   "metadata": {},
   "outputs": [
    {
     "name": "stdout",
     "output_type": "stream",
     "text": [
      "b'v1_center' 6916.0880791849995 0.014648137074087183\n",
      "b'v1_amplitude' 18.492990480621103 0.8880796028174421\n",
      "b'v1_sigma' 4.310220943172336 0.5130528640625613\n",
      "b'v1_expon' 9.312503286839691 2.2067846098752435\n",
      "b'v2_center' 6915.421767610093 0.019069135245472966\n",
      "b'v2_amplitude' 39.691513286849876 1.0055182390759776\n",
      "b'v2_sigma' 3.106225472741749 0.11919877402190149\n",
      "b'v2_expon' 1.4204782271416563 0.03879127252032162\n",
      "b'v3_center' 6929.875058216985 0.009493986099821524\n",
      "b'v3_amplitude' 83.86182686236451 0.3713141462643664\n",
      "b'v3_sigma' 3.7809151927036613 0.040205316496296696\n",
      "b'v3_expon' 1.8311528320740387 0.024138091119686757\n",
      "b'v4_center' 6931.175773268083 0.005032898321170562\n",
      "b'v4_amplitude' 31.426353230770527 0.38860172549938804\n",
      "b'v4_sigma' 13.538737488046994 10.26439083291816\n",
      "b'v4_expon' 99.97822678580532 122.48748151419117\n"
     ]
    },
    {
     "data": {
      "application/vnd.jupyter.widget-view+json": {
       "model_id": "9b702ac9d5514f928535807c96f2bfa2",
       "version_major": 2,
       "version_minor": 0
      },
      "text/plain": [
       "Canvas(toolbar=Toolbar(toolitems=[('Home', 'Reset original view', 'home', 'home'), ('Back', 'Back to previous …"
      ]
     },
     "metadata": {},
     "output_type": "display_data"
    },
    {
     "data": {
      "text/plain": [
       "[<matplotlib.lines.Line2D at 0x2adb56336160>]"
      ]
     },
     "execution_count": 4,
     "metadata": {},
     "output_type": "execute_result"
    }
   ],
   "source": [
    "def lorentzian(x, params):\n",
    "    return params[:, :,1, np.newaxis]/np.pi * params[:, :,2,np.newaxis] / ( params[:, :,2, np.newaxis]**2 + ( x[np.newaxis, np.newaxis, :] - params[:, :,0, np.newaxis] )**2)\n",
    "\n",
    "def lorentzian_1d(x, params):\n",
    "    return params[1]/np.pi * params[2] / ( params[2]**2 + ( x - params[0] )**2)\n",
    "\n",
    "def voigt(x, params):\n",
    "    return params[:, :,1, np.newaxis] * voigt_profile(x[np.newaxis, np.newaxis, :] - params[:, :,0, np.newaxis], params[:, :,2, np.newaxis], params[:, :,3, np.newaxis])\n",
    "\n",
    "def voigt_1d(x, params):\n",
    "    return  params[1] * voigt_profile(x - params[0], params[2], params[3])\n",
    "\n",
    "def split_lorentzian(x, params):\n",
    "    mu = params[:, :,0,np.newaxis]\n",
    "    a = params[:, :,1,np.newaxis]\n",
    "    sigma = params[:, :,2,np.newaxis]\n",
    "    sigma_r = params[:, :,3,np.newaxis]\n",
    "    return 2*a/(np.pi*(sigma+sigma_r)) * (  sigma**2 / ((x-mu)**2 + sigma**2) * np.heaviside(mu-x, 1) + sigma_r**2/((x-mu)**2 + sigma_r**2) * np.heaviside(x-mu, 1))\n",
    "\n",
    "\n",
    "def split_lorentzian_1d(x, params):\n",
    "    mu = params[0]\n",
    "    a = params[1]\n",
    "    sigma = params[2]\n",
    "    sigma_r = params[3]\n",
    "    return 2*a/(np.pi*(sigma+sigma_r)) * (  sigma**2 / ((x-mu)**2 + sigma**2) * np.heaviside(mu-x, 1) + sigma_r**2/((x-mu)**2 + sigma_r**2) * np.heaviside(x-mu, 1))\n",
    "\n",
    "def pearson7(x, params):\n",
    "    mu = params[:, :, 0, np.newaxis]\n",
    "    a = params[:, :, 1, np.newaxis]\n",
    "    sigma = params[:, :, 2, np.newaxis]\n",
    "    m = params[:, :, 3, np.newaxis]\n",
    "    \n",
    "    return a / (sigma*beta(m-0.5, 0.5)) * (1+(x-mu)**2/sigma**2)**(-m)\n",
    "\n",
    "def pearson7_1d(x, params):\n",
    "    mu = params[0]\n",
    "    a = params[1]\n",
    "    sigma = params[2]\n",
    "    m = params[3]\n",
    "    \n",
    "    return a / (sigma*beta(m-0.5, 0.5)) * (1+(x-mu)**2/sigma**2)**(-m)\n",
    "\n",
    "\n",
    "def model(x, params):\n",
    "        \"\"\" *params* should have shape (M,N), where\n",
    "        M = number of components\n",
    "        N = number of parameters per components\n",
    "        \"\"\"\n",
    "\n",
    "        y = np.zeros(x.shape)\n",
    "        for i in range(params.shape[0]): # Iterate components\n",
    "            y = y + pearson7_1d(x, params[i])\n",
    "\n",
    "        return y\n",
    "    \n",
    "with h5py.File(r'/home/otteflor/scratch/tmp_fit/2699_081_on/04_compare.h5', 'r') as h5_file:\n",
    "    fwhm12 = h5_file['description/fwhm(1,2)_sorted'][()]\n",
    "    fwhm34 = h5_file['description/fwhm(3,4)_sorted'][()]\n",
    "    height12 = h5_file['description/height(1,2)_sorted'][()]\n",
    "    height34 = h5_file['description/height(3,4)_sorted'][()]\n",
    "    position12 = h5_file['description/position(1,2)_sorted'][()]\n",
    "    position34 = h5_file['description/position(3,4)_sorted'][()]\n",
    "    x = h5_file['fit_data/x'][()]\n",
    "    y = h5_file['fit_data/y'][()]\n",
    "    motor = h5_file['fit_data/motor'][()]\n",
    "    best = h5_file['params/best_sorted'][()]\n",
    "    best_errors = h5_file['params/errors_sorted'][()]\n",
    "    errors = h5_file['fit_data/errors'][()]\n",
    "    names = h5_file['params/names'][()]\n",
    "    \n",
    "for i, n in enumerate(names):\n",
    "    print(n, best[0, 0, i], best_errors[0, 0, i])\n",
    "    \n",
    "            \n",
    "step = 0\n",
    "fit_idx = 0\n",
    "fig, ax = plt.subplots(nrows = 2)\n",
    "ax[0].plot(x, y[step])\n",
    "ax[0].plot(x, model(x, best[fit_idx, step].reshape((4, -1))))\n",
    "\n",
    "ax[1].plot(x, y[step]-model(x, best[fit_idx, step].reshape((4, -1))), 'k.')\n",
    "ax[1].plot(x, errors)\n",
    "ax[1].plot(x, -1*errors)"
   ]
  },
  {
   "cell_type": "code",
   "execution_count": 5,
   "id": "3d922afd-6499-4505-8b46-475af8c38d49",
   "metadata": {},
   "outputs": [
    {
     "data": {
      "application/vnd.jupyter.widget-view+json": {
       "model_id": "a43455e8547a427d988f71623578be75",
       "version_major": 2,
       "version_minor": 0
      },
      "text/plain": [
       "Canvas(toolbar=Toolbar(toolitems=[('Home', 'Reset original view', 'home', 'home'), ('Back', 'Back to previous …"
      ]
     },
     "metadata": {},
     "output_type": "display_data"
    },
    {
     "data": {
      "text/plain": [
       "[<matplotlib.lines.Line2D at 0x2adb563b5070>]"
      ]
     },
     "execution_count": 5,
     "metadata": {},
     "output_type": "execute_result"
    }
   ],
   "source": [
    "with h5py.File(r'/home/otteflor/scratch/tmp_fit/2699_082_on/04_compare.h5', 'r') as h5_file:\n",
    "    x2 = h5_file['fit_data/x'][()]\n",
    "    y2 = h5_file['fit_data/y'][()]\n",
    "plt.figure()\n",
    "plt.plot(x, y[0])\n",
    "plt.plot(x2, y2[0])"
   ]
  },
  {
   "cell_type": "code",
   "execution_count": 6,
   "id": "51d68c03-efab-4bb0-871f-ccf7adc3acbf",
   "metadata": {},
   "outputs": [
    {
     "data": {
      "application/vnd.jupyter.widget-view+json": {
       "model_id": "b9937d986c584a2c92d66ef624e6c446",
       "version_major": 2,
       "version_minor": 0
      },
      "text/plain": [
       "Canvas(toolbar=Toolbar(toolitems=[('Home', 'Reset original view', 'home', 'home'), ('Back', 'Back to previous …"
      ]
     },
     "metadata": {},
     "output_type": "display_data"
    },
    {
     "ename": "NameError",
     "evalue": "name 'model_old' is not defined",
     "output_type": "error",
     "traceback": [
      "\u001b[0;31m---------------------------------------------------------------------------\u001b[0m",
      "\u001b[0;31mNameError\u001b[0m                                 Traceback (most recent call last)",
      "\u001b[0;32m/tmp/ipykernel_42675/794887359.py\u001b[0m in \u001b[0;36m<module>\u001b[0;34m\u001b[0m\n\u001b[1;32m      1\u001b[0m \u001b[0mplt\u001b[0m\u001b[0;34m.\u001b[0m\u001b[0mfigure\u001b[0m\u001b[0;34m(\u001b[0m\u001b[0;34m)\u001b[0m\u001b[0;34m\u001b[0m\u001b[0;34m\u001b[0m\u001b[0m\n\u001b[0;32m----> 2\u001b[0;31m \u001b[0mplt\u001b[0m\u001b[0;34m.\u001b[0m\u001b[0mplot\u001b[0m\u001b[0;34m(\u001b[0m\u001b[0mx\u001b[0m\u001b[0;34m,\u001b[0m \u001b[0mmodel_old\u001b[0m\u001b[0;34m)\u001b[0m\u001b[0;34m\u001b[0m\u001b[0;34m\u001b[0m\u001b[0m\n\u001b[0m\u001b[1;32m      3\u001b[0m \u001b[0mplt\u001b[0m\u001b[0;34m.\u001b[0m\u001b[0mplot\u001b[0m\u001b[0;34m(\u001b[0m\u001b[0mx\u001b[0m\u001b[0;34m,\u001b[0m \u001b[0mmodel_new\u001b[0m\u001b[0;34m)\u001b[0m\u001b[0;34m\u001b[0m\u001b[0;34m\u001b[0m\u001b[0m\n",
      "\u001b[0;31mNameError\u001b[0m: name 'model_old' is not defined"
     ]
    }
   ],
   "source": [
    "plt.figure()\n",
    "plt.plot(x, model_old)\n",
    "plt.plot(x, model_new)"
   ]
  },
  {
   "cell_type": "code",
   "execution_count": null,
   "id": "fd3e0718-ef6b-421c-bac3-6091ea667d4b",
   "metadata": {},
   "outputs": [],
   "source": []
  }
 ],
 "metadata": {
  "kernelspec": {
   "display_name": "Python 3 (ipykernel)",
   "language": "python",
   "name": "python3"
  },
  "language_info": {
   "codemirror_mode": {
    "name": "ipython",
    "version": 3
   },
   "file_extension": ".py",
   "mimetype": "text/x-python",
   "name": "python",
   "nbconvert_exporter": "python",
   "pygments_lexer": "ipython3",
   "version": "3.9.7"
  }
 },
 "nbformat": 4,
 "nbformat_minor": 5
}
